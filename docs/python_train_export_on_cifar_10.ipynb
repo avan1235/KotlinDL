{
 "nbformat": 4,
 "nbformat_minor": 0,
 "metadata": {
  "kernelspec": {
   "display_name": "Python 3",
   "language": "python",
   "name": "python3"
  },
  "language_info": {
   "codemirror_mode": {
    "name": "ipython",
    "version": 3
   },
   "file_extension": ".py",
   "mimetype": "text/x-python",
   "name": "python",
   "nbconvert_exporter": "python",
   "pygments_lexer": "ipython3",
   "version": "3.7.6"
  },
  "colab": {
   "name": "python_train_export_on_cifar_10.ipynb",
   "provenance": []
  }
 },
 "cells": [
  {
   "cell_type": "markdown",
   "metadata": {
    "id": "38-wD4Lv9nkt"
   },
   "source": [
    "<em><sub>This page is available as an executable or viewable <strong>Jupyter Notebook</strong></sub></em>\n",
    "<br/><br/>\n",
    "<a href=\"https://mybinder.org/v2/gh/avan1235/KotlinDL/notebooks?filepath=docs%2Fpython_train_export_on_cifar_10.ipynb\"\n",
    "   target=\"_parent\">\n",
    "   <img align=\"left\"\n",
    "        src=\"https://mybinder.org/badge_logo.svg\"\n",
    "        height=\"20\">\n",
    "</a>\n",
    "<a href=\"https://nbviewer.jupyter.org/github/avan1235/KotlinDL/blob/notebooks/docs/python_train_export_on_cifar_10.ipynb\"\n",
    "   target=\"_parent\">\n",
    "   <img align=\"right\"\n",
    "        src=\"https://raw.githubusercontent.com/jupyter/design/master/logos/Badges/nbviewer_badge.svg\"\n",
    "        height=\"20\">\n",
    "</a>\n",
    "<br/><br/>"
   ]
  },
  {
   "cell_type": "markdown",
   "metadata": {
    "id": "XGrbzDqk4hZ7"
   },
   "source": [
    "# Exporting Python Keras model\n",
    "\n",
    "In this scenario we assume that we already have some code with neural netowork definition in Python that includes its training and data extraction. There are a few common scenarios when we would like to use this code indirecly and exporting the model seems to be the easiest approach."
   ]
  },
  {
   "cell_type": "code",
   "metadata": {
    "id": "kD8ldF2-3Q4M"
   },
   "source": [
    "import tensorflow as tf\n",
    "from tensorflow.keras import datasets, layers, models"
   ],
   "execution_count": 1,
   "outputs": []
  },
  {
   "cell_type": "markdown",
   "metadata": {
    "id": "_Gt8kTA94_80"
   },
   "source": [
    "As an example, we use the [CIFAR-10 dataset](https://www.cs.toronto.edu/~kriz/cifar.html) to train our neural network in Python which doesn't need a lot of preprocessing work as it is already prepared by Keras."
   ]
  },
  {
   "cell_type": "code",
   "metadata": {
    "colab": {
     "base_uri": "https://localhost:8080/"
    },
    "id": "AOKC8-Xy3Q4R",
    "outputId": "fc25aedb-2cbe-4705-9038-d83243baa169"
   },
   "source": [
    "(train_images, train_labels), (test_images, test_labels) = datasets.cifar10.load_data()\n",
    "\n",
    "train_images, test_images = train_images / 255.0, test_images / 255.0"
   ],
   "execution_count": 2,
   "outputs": [
    {
     "output_type": "stream",
     "text": [
      "Downloading data from https://www.cs.toronto.edu/~kriz/cifar-10-python.tar.gz\n",
      "170500096/170498071 [==============================] - 2s 0us/step\n"
     ],
     "name": "stdout"
    }
   ]
  },
  {
   "cell_type": "markdown",
   "metadata": {
    "id": "VPpiIxR35XKk"
   },
   "source": [
    "We define our neural network as a common convolutional architecture with maxpooling layers for decreasing the image size. We end up with 10 outputs from the network as there are 10 labels to be detected in the dataset. "
   ]
  },
  {
   "cell_type": "code",
   "metadata": {
    "id": "aE3v5dJY3Q4S"
   },
   "source": [
    "model = models.Sequential([\n",
    "    layers.Conv2D(32, (3, 3), activation='relu', input_shape=(32, 32, 3)),\n",
    "    layers.MaxPooling2D((2, 2)),\n",
    "    layers.Conv2D(64, (3, 3), activation='relu'),\n",
    "    layers.MaxPooling2D((2, 2)), \n",
    "    layers.Conv2D(64, (3, 3), activation='relu'),\n",
    "    layers.Flatten(),\n",
    "    layers.Dense(64, activation='relu'),\n",
    "    layers.Dense(10)\n",
    "])"
   ],
   "execution_count": 3,
   "outputs": []
  },
  {
   "cell_type": "code",
   "metadata": {
    "colab": {
     "base_uri": "https://localhost:8080/"
    },
    "id": "uMxsEfRd3Q4T",
    "outputId": "f6be0d48-25c7-45ca-8344-1c59012e35d7"
   },
   "source": [
    "model.summary()"
   ],
   "execution_count": 4,
   "outputs": [
    {
     "output_type": "stream",
     "text": [
      "Model: \"sequential\"\n",
      "_________________________________________________________________\n",
      "Layer (type)                 Output Shape              Param #   \n",
      "=================================================================\n",
      "conv2d (Conv2D)              (None, 30, 30, 32)        896       \n",
      "_________________________________________________________________\n",
      "max_pooling2d (MaxPooling2D) (None, 15, 15, 32)        0         \n",
      "_________________________________________________________________\n",
      "conv2d_1 (Conv2D)            (None, 13, 13, 64)        18496     \n",
      "_________________________________________________________________\n",
      "max_pooling2d_1 (MaxPooling2 (None, 6, 6, 64)          0         \n",
      "_________________________________________________________________\n",
      "conv2d_2 (Conv2D)            (None, 4, 4, 64)          36928     \n",
      "_________________________________________________________________\n",
      "flatten (Flatten)            (None, 1024)              0         \n",
      "_________________________________________________________________\n",
      "dense (Dense)                (None, 64)                65600     \n",
      "_________________________________________________________________\n",
      "dense_1 (Dense)              (None, 10)                650       \n",
      "=================================================================\n",
      "Total params: 122,570\n",
      "Trainable params: 122,570\n",
      "Non-trainable params: 0\n",
      "_________________________________________________________________\n"
     ],
     "name": "stdout"
    }
   ]
  },
  {
   "cell_type": "code",
   "metadata": {
    "colab": {
     "base_uri": "https://localhost:8080/"
    },
    "id": "IcOtb2Ld3Q4V",
    "outputId": "cd9173a5-3c03-4cd0-d9ed-05920c3f53c7"
   },
   "source": [
    "model.compile(optimizer='adam',\n",
    "              loss=tf.keras.losses.SparseCategoricalCrossentropy(from_logits=True),\n",
    "              metrics=['accuracy'])\n",
    "\n",
    "history = model.fit(train_images, train_labels, epochs=10, \n",
    "                    validation_data=(test_images, test_labels))"
   ],
   "execution_count": 5,
   "outputs": [
    {
     "output_type": "stream",
     "text": [
      "Epoch 1/10\n",
      "1563/1563 [==============================] - 73s 46ms/step - loss: 1.5299 - accuracy: 0.4419 - val_loss: 1.2939 - val_accuracy: 0.5346\n",
      "Epoch 2/10\n",
      "1563/1563 [==============================] - 71s 46ms/step - loss: 1.1845 - accuracy: 0.5820 - val_loss: 1.0751 - val_accuracy: 0.6182\n",
      "Epoch 3/10\n",
      "1563/1563 [==============================] - 71s 45ms/step - loss: 1.0344 - accuracy: 0.6357 - val_loss: 1.0386 - val_accuracy: 0.6337\n",
      "Epoch 4/10\n",
      "1563/1563 [==============================] - 70s 45ms/step - loss: 0.9355 - accuracy: 0.6711 - val_loss: 0.9571 - val_accuracy: 0.6666\n",
      "Epoch 5/10\n",
      "1563/1563 [==============================] - 69s 44ms/step - loss: 0.8643 - accuracy: 0.6963 - val_loss: 0.9385 - val_accuracy: 0.6695\n",
      "Epoch 6/10\n",
      "1563/1563 [==============================] - 70s 45ms/step - loss: 0.8087 - accuracy: 0.7180 - val_loss: 0.8962 - val_accuracy: 0.6837\n",
      "Epoch 7/10\n",
      "1563/1563 [==============================] - 71s 45ms/step - loss: 0.7556 - accuracy: 0.7336 - val_loss: 0.8881 - val_accuracy: 0.6947\n",
      "Epoch 8/10\n",
      "1563/1563 [==============================] - 69s 44ms/step - loss: 0.7160 - accuracy: 0.7481 - val_loss: 0.8521 - val_accuracy: 0.7045\n",
      "Epoch 9/10\n",
      "1563/1563 [==============================] - 70s 45ms/step - loss: 0.6744 - accuracy: 0.7626 - val_loss: 0.8742 - val_accuracy: 0.7041\n",
      "Epoch 10/10\n",
      "1563/1563 [==============================] - 70s 45ms/step - loss: 0.6418 - accuracy: 0.7742 - val_loss: 0.8754 - val_accuracy: 0.7071\n"
     ],
     "name": "stdout"
    }
   ]
  },
  {
   "cell_type": "code",
   "metadata": {
    "colab": {
     "base_uri": "https://localhost:8080/"
    },
    "id": "OjVTyQCA3Q4W",
    "outputId": "7059c7c3-0a2b-4036-8cb9-d95cd9abe0d2"
   },
   "source": [
    "test_loss, test_acc = model.evaluate(test_images,  test_labels, verbose=2)\n",
    "print(test_acc)"
   ],
   "execution_count": 6,
   "outputs": [
    {
     "output_type": "stream",
     "text": [
      "313/313 - 4s - loss: 0.8754 - accuracy: 0.7071\n",
      "0.707099974155426\n"
     ],
     "name": "stdout"
    }
   ]
  },
  {
   "cell_type": "markdown",
   "metadata": {
    "id": "9ywgASUA5ypw"
   },
   "source": [
    "After training process done with `fit` method we saw that the evaluated model achieves over 70% of accuracy on the unseen test data.\n",
    "\n",
    "Now we can save this model structure to `.json` file as well the weights form the model that we obtained during training process to standard data file format named `Hierarchical Data Format` or just `HDF5`."
   ]
  },
  {
   "cell_type": "code",
   "metadata": {
    "id": "oFV46pLS3Q4X"
   },
   "source": [
    "model.save('keras-cifar-10/weights', save_format='h5')\n",
    "\n",
    "model_json = model.to_json()\n",
    "with open(\"keras-cifar-10/model.json\", \"w\") as json_file:\n",
    "    json_file.write(model_json)"
   ],
   "execution_count": 7,
   "outputs": []
  }
 ]
}